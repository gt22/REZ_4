{
  "cells": [
    {
      "cell_type": "markdown",
      "source": [
        "Получилась точность в 94% на датасете на 80% процентов состоящем из текста, при выбраном пороге - Precision=80%, Recall=95%, можно значительно улучшить увелечением размера датасета, улучшеним препроцессинга, и усложнением модели.\n",
        "\n",
        "Текущие решениеи доминировалась экономией места на диске и времени (между ними тоже можно выбирать, пред-распаковка датасета с кодом ускоряет загрузку, но значительно увеличивает занимаемое место)\n",
        "\n",
        "На предложенной питоновской строчке не срабатывает (но всё-равно выдаёт вероятность на несколько порядков больше чем для предложенной текстовой строчки), так-как обучен на джаве. На джавовских строчках работает."
      ],
      "metadata": {
        "id": "xmwDluM9Jdqa"
      }
    },
    {
      "cell_type": "code",
      "execution_count": 1,
      "metadata": {
        "id": "Vh42ubWKnNgT"
      },
      "outputs": [],
      "source": [
        "from torch.utils.data import Dataset, ConcatDataset, dataloader\n",
        "import json\n",
        "import nltk\n",
        "import re\n",
        "import glob\n",
        "import numpy as np\n",
        "import os\n",
        "import itertools\n",
        "import tarfile\n",
        "from sklearn.naive_bayes import CategoricalNB\n",
        "from sklearn.model_selection import train_test_split"
      ]
    },
    {
      "cell_type": "code",
      "source": [
        "nltk.download('punkt')"
      ],
      "metadata": {
        "colab": {
          "base_uri": "https://localhost:8080/"
        },
        "id": "dKESTiL4C_rJ",
        "outputId": "bbef71b2-dca6-43d3-8c49-3a70d316b1d4"
      },
      "execution_count": 2,
      "outputs": [
        {
          "output_type": "stream",
          "name": "stdout",
          "text": [
            "[nltk_data] Downloading package punkt to /root/nltk_data...\n",
            "[nltk_data]   Unzipping tokenizers/punkt.zip.\n"
          ]
        },
        {
          "output_type": "execute_result",
          "data": {
            "text/plain": [
              "True"
            ]
          },
          "metadata": {},
          "execution_count": 2
        }
      ]
    },
    {
      "cell_type": "code",
      "source": [
        "ss = nltk.SnowballStemmer(language = 'english')"
      ],
      "metadata": {
        "id": "3bCC-kOSC0o8"
      },
      "execution_count": 4,
      "outputs": []
    },
    {
      "cell_type": "code",
      "source": [
        "file_list_chache_meta = None\n",
        "file_list_cache = None"
      ],
      "metadata": {
        "id": "_8mssRokEoar"
      },
      "execution_count": 5,
      "outputs": []
    },
    {
      "cell_type": "code",
      "source": [
        "def get_file_list(path, seed):\n",
        "    global file_list_cache, file_list_chache_meta\n",
        "\n",
        "    if file_list_chache_meta == (path, seed):\n",
        "        return file_list_cache\n",
        "    \n",
        "    with tarfile.open(path, 'r:gz') as tarf:\n",
        "        file_list_cache = tarf.getnames()\n",
        "    # Preserve state so that seed only affects local random\n",
        "    random_state = np.random.get_state()\n",
        "    np.random.seed(seed)\n",
        "    np.random.shuffle(file_list_cache)\n",
        "    np.random.set_state(random_state)\n",
        "    file_list_chache_meta = (path, seed)\n",
        "    return file_list_cache"
      ],
      "metadata": {
        "id": "iUF1xdZSErdk"
      },
      "execution_count": 6,
      "outputs": []
    },
    {
      "cell_type": "code",
      "source": [
        "def preprocess_sentence(s):\n",
        "    s = s.lower()\n",
        "    s = re.sub(\"s+\", \" \", s)\n",
        "    s = re.sub(\"[^-9A-Za-z ]\", \" \" , s)\n",
        "    s = nltk.tokenize.word_tokenize(s)\n",
        "    s = [ss.stem(w) for w in s]\n",
        "    return s"
      ],
      "metadata": {
        "id": "UV7ZhVhZB3Bc"
      },
      "execution_count": 70,
      "outputs": []
    },
    {
      "cell_type": "code",
      "source": [
        "# https://www.reddit.com/r/datasets/comments/1uyd0t/200000_jeopardy_questions_in_a_json_file/\n",
        "class JeopardyDataset(Dataset):\n",
        "\n",
        "    def __init__(self, path='./JEOPARDY_QUESTIONS1.json'):\n",
        "        with open(path) as f:\n",
        "            data = json.load(f)\n",
        "        self.texts = [preprocess_sentence(x['question']) for x in data]\n",
        "\n",
        "    def __len__(self):\n",
        "        return len(self.texts)\n",
        "\n",
        "    def __getitem__(self, i):\n",
        "        return self.texts[i], 'text'"
      ],
      "metadata": {
        "id": "zeADGKFQs8iQ"
      },
      "execution_count": 8,
      "outputs": []
    },
    {
      "cell_type": "code",
      "source": [
        "# https://groups.inf.ed.ac.uk/cup/javaGithub/\n",
        "!wget https://groups.inf.ed.ac.uk/cup/javaGithub/java_projects.tar.gz"
      ],
      "metadata": {
        "colab": {
          "base_uri": "https://localhost:8080/"
        },
        "id": "al5ADMqtGmfw",
        "outputId": "816c7549-7dc7-43d6-b98c-9a285fdf941d"
      },
      "execution_count": 9,
      "outputs": [
        {
          "output_type": "stream",
          "name": "stdout",
          "text": [
            "--2022-03-16 14:29:09--  https://groups.inf.ed.ac.uk/cup/javaGithub/java_projects.tar.gz\n",
            "Resolving groups.inf.ed.ac.uk (groups.inf.ed.ac.uk)... 129.215.202.26\n",
            "Connecting to groups.inf.ed.ac.uk (groups.inf.ed.ac.uk)|129.215.202.26|:443... connected.\n",
            "HTTP request sent, awaiting response... 200 OK\n",
            "Length: 1925914209 (1.8G) [application/gzip]\n",
            "Saving to: ‘java_projects.tar.gz’\n",
            "\n",
            "java_projects.tar.g 100%[===================>]   1.79G  11.8MB/s    in 2m 48s  \n",
            "\n",
            "2022-03-16 14:31:58 (11.0 MB/s) - ‘java_projects.tar.gz’ saved [1925914209/1925914209]\n",
            "\n"
          ]
        }
      ]
    },
    {
      "cell_type": "code",
      "source": [
        "class JavaDataset(Dataset):\n",
        "\n",
        "    def __init__(self, path='./java_projects.tar.gz', seed=6741, total=200000): \n",
        "        files = get_file_list(path, seed)\n",
        "        \n",
        "        with tarfile.open(path, 'r:gz') as tarf:\n",
        "            self.texts = []\n",
        "            for fn in files:\n",
        "                if not fn.endswith('.java'):\n",
        "                    continue\n",
        "                f = tarf.extractfile(fn)\n",
        "                if f is None:\n",
        "                    continue\n",
        "                try:\n",
        "                    ln = f.readlines()\n",
        "                    for l in ln:\n",
        "                        if len(l) > 20:\n",
        "                            self.texts.append(preprocess_sentence(l.decode('utf8')))\n",
        "                except Exception as e:\n",
        "                    pass\n",
        "                print(f'{len(self.texts)}/{total}')\n",
        "                if total is not None and len(self.texts) > total:\n",
        "                    break\n",
        "        \n",
        "    def __len__(self):\n",
        "        return len(self.texts)\n",
        "\n",
        "    def __getitem__(self, i):\n",
        "        return self.texts[i], 'code'"
      ],
      "metadata": {
        "id": "MuvWelYzDfEo"
      },
      "execution_count": 10,
      "outputs": []
    },
    {
      "cell_type": "code",
      "source": [
        "stemmed_texts = [[ss.stem(w) for w in s] for s in jd.texts]"
      ],
      "metadata": {
        "id": "extEBr93-6kU"
      },
      "execution_count": 76,
      "outputs": []
    },
    {
      "cell_type": "code",
      "source": [
        "d = JeopardyDataset()"
      ],
      "metadata": {
        "id": "yerX_qH6BcCY"
      },
      "execution_count": 71,
      "outputs": []
    },
    {
      "cell_type": "code",
      "source": [
        "jd = JavaDataset(total=(2/8) * 200000)"
      ],
      "metadata": {
        "colab": {
          "base_uri": "https://localhost:8080/"
        },
        "id": "XRQ8kWnDE8sE",
        "outputId": "0f215e28-1687-4025-8914-dc1d657f9a32"
      },
      "execution_count": 15,
      "outputs": [
        {
          "output_type": "stream",
          "name": "stdout",
          "text": [
            "61/50000.0\n",
            "77/50000.0\n",
            "129/50000.0\n",
            "137/50000.0\n",
            "222/50000.0\n",
            "255/50000.0\n",
            "389/50000.0\n",
            "496/50000.0\n",
            "521/50000.0\n",
            "556/50000.0\n",
            "609/50000.0\n",
            "627/50000.0\n",
            "702/50000.0\n",
            "1270/50000.0\n",
            "1346/50000.0\n",
            "1364/50000.0\n",
            "1390/50000.0\n",
            "1440/50000.0\n",
            "1526/50000.0\n",
            "1598/50000.0\n",
            "1672/50000.0\n",
            "1728/50000.0\n",
            "1769/50000.0\n",
            "1785/50000.0\n",
            "1804/50000.0\n",
            "2746/50000.0\n",
            "2764/50000.0\n",
            "3078/50000.0\n",
            "3092/50000.0\n",
            "3129/50000.0\n",
            "3192/50000.0\n",
            "3205/50000.0\n",
            "4098/50000.0\n",
            "4144/50000.0\n",
            "4236/50000.0\n",
            "4255/50000.0\n",
            "4301/50000.0\n",
            "4327/50000.0\n",
            "4380/50000.0\n",
            "4516/50000.0\n",
            "4626/50000.0\n",
            "4666/50000.0\n",
            "4716/50000.0\n",
            "4885/50000.0\n",
            "4951/50000.0\n",
            "5005/50000.0\n",
            "5018/50000.0\n",
            "5038/50000.0\n",
            "5084/50000.0\n",
            "5158/50000.0\n",
            "5172/50000.0\n",
            "5259/50000.0\n",
            "5311/50000.0\n",
            "5524/50000.0\n",
            "5536/50000.0\n",
            "5625/50000.0\n",
            "5661/50000.0\n",
            "5667/50000.0\n",
            "5686/50000.0\n",
            "5712/50000.0\n",
            "5733/50000.0\n",
            "5748/50000.0\n",
            "5772/50000.0\n",
            "5775/50000.0\n",
            "5828/50000.0\n",
            "5857/50000.0\n",
            "5875/50000.0\n",
            "5934/50000.0\n",
            "5987/50000.0\n",
            "5998/50000.0\n",
            "6011/50000.0\n",
            "6014/50000.0\n",
            "6094/50000.0\n",
            "6206/50000.0\n",
            "6206/50000.0\n",
            "6366/50000.0\n",
            "6465/50000.0\n",
            "6484/50000.0\n",
            "6640/50000.0\n",
            "6664/50000.0\n",
            "6705/50000.0\n",
            "6718/50000.0\n",
            "6829/50000.0\n",
            "6841/50000.0\n",
            "6884/50000.0\n",
            "7111/50000.0\n",
            "7117/50000.0\n",
            "7140/50000.0\n",
            "7211/50000.0\n",
            "7271/50000.0\n",
            "7357/50000.0\n",
            "7448/50000.0\n",
            "7470/50000.0\n",
            "7526/50000.0\n",
            "7561/50000.0\n",
            "7673/50000.0\n",
            "7777/50000.0\n",
            "7849/50000.0\n",
            "7940/50000.0\n",
            "7970/50000.0\n",
            "8031/50000.0\n",
            "8056/50000.0\n",
            "8069/50000.0\n",
            "8101/50000.0\n",
            "8158/50000.0\n",
            "8408/50000.0\n",
            "8423/50000.0\n",
            "8483/50000.0\n",
            "8510/50000.0\n",
            "8563/50000.0\n",
            "8593/50000.0\n",
            "8653/50000.0\n",
            "8682/50000.0\n",
            "8902/50000.0\n",
            "8903/50000.0\n",
            "9079/50000.0\n",
            "9124/50000.0\n",
            "9153/50000.0\n",
            "9171/50000.0\n",
            "9188/50000.0\n",
            "9243/50000.0\n",
            "9276/50000.0\n",
            "9286/50000.0\n",
            "9310/50000.0\n",
            "9343/50000.0\n",
            "9675/50000.0\n",
            "9799/50000.0\n",
            "9812/50000.0\n",
            "9876/50000.0\n",
            "9896/50000.0\n",
            "10076/50000.0\n",
            "10112/50000.0\n",
            "10145/50000.0\n",
            "10303/50000.0\n",
            "10383/50000.0\n",
            "10407/50000.0\n",
            "10482/50000.0\n",
            "10601/50000.0\n",
            "10643/50000.0\n",
            "10691/50000.0\n",
            "10744/50000.0\n",
            "10758/50000.0\n",
            "10834/50000.0\n",
            "11093/50000.0\n",
            "11195/50000.0\n",
            "11200/50000.0\n",
            "11204/50000.0\n",
            "11232/50000.0\n",
            "11272/50000.0\n",
            "11370/50000.0\n",
            "11437/50000.0\n",
            "11489/50000.0\n",
            "11507/50000.0\n",
            "11726/50000.0\n",
            "11747/50000.0\n",
            "11846/50000.0\n",
            "11864/50000.0\n",
            "11879/50000.0\n",
            "11904/50000.0\n",
            "11912/50000.0\n",
            "12016/50000.0\n",
            "12062/50000.0\n",
            "12070/50000.0\n",
            "12077/50000.0\n",
            "12085/50000.0\n",
            "12113/50000.0\n",
            "12119/50000.0\n",
            "12154/50000.0\n",
            "12164/50000.0\n",
            "12247/50000.0\n",
            "12278/50000.0\n",
            "12285/50000.0\n",
            "12477/50000.0\n",
            "12517/50000.0\n",
            "12631/50000.0\n",
            "12649/50000.0\n",
            "12694/50000.0\n",
            "12718/50000.0\n",
            "13727/50000.0\n",
            "13750/50000.0\n",
            "13905/50000.0\n",
            "14009/50000.0\n",
            "14105/50000.0\n",
            "14266/50000.0\n",
            "14362/50000.0\n",
            "14388/50000.0\n",
            "14426/50000.0\n",
            "14446/50000.0\n",
            "14486/50000.0\n",
            "14508/50000.0\n",
            "14655/50000.0\n",
            "14908/50000.0\n",
            "14950/50000.0\n",
            "15016/50000.0\n",
            "15131/50000.0\n",
            "15204/50000.0\n",
            "15227/50000.0\n",
            "15786/50000.0\n",
            "15791/50000.0\n",
            "15847/50000.0\n",
            "15873/50000.0\n",
            "16052/50000.0\n",
            "16097/50000.0\n",
            "16128/50000.0\n",
            "16275/50000.0\n",
            "16341/50000.0\n",
            "16357/50000.0\n",
            "16603/50000.0\n",
            "16665/50000.0\n",
            "16920/50000.0\n",
            "17012/50000.0\n",
            "17049/50000.0\n",
            "17137/50000.0\n",
            "17251/50000.0\n",
            "17288/50000.0\n",
            "17334/50000.0\n",
            "17338/50000.0\n",
            "17436/50000.0\n",
            "17502/50000.0\n",
            "17520/50000.0\n",
            "17535/50000.0\n",
            "17583/50000.0\n",
            "17683/50000.0\n",
            "17784/50000.0\n",
            "17812/50000.0\n",
            "17860/50000.0\n",
            "17875/50000.0\n",
            "17922/50000.0\n",
            "17953/50000.0\n",
            "18018/50000.0\n",
            "18035/50000.0\n",
            "18050/50000.0\n",
            "18071/50000.0\n",
            "18103/50000.0\n",
            "18278/50000.0\n",
            "18354/50000.0\n",
            "18443/50000.0\n",
            "18508/50000.0\n",
            "18583/50000.0\n",
            "18601/50000.0\n",
            "18663/50000.0\n",
            "18669/50000.0\n",
            "18712/50000.0\n",
            "18888/50000.0\n",
            "18911/50000.0\n",
            "19061/50000.0\n",
            "19074/50000.0\n",
            "19091/50000.0\n",
            "19109/50000.0\n",
            "19346/50000.0\n",
            "19537/50000.0\n",
            "19911/50000.0\n",
            "19981/50000.0\n",
            "20127/50000.0\n",
            "20180/50000.0\n",
            "20213/50000.0\n",
            "20315/50000.0\n",
            "20349/50000.0\n",
            "20350/50000.0\n",
            "20372/50000.0\n",
            "20755/50000.0\n",
            "20765/50000.0\n",
            "20797/50000.0\n",
            "20824/50000.0\n",
            "21059/50000.0\n",
            "21106/50000.0\n",
            "21168/50000.0\n",
            "21212/50000.0\n",
            "21325/50000.0\n",
            "21416/50000.0\n",
            "21438/50000.0\n",
            "21461/50000.0\n",
            "21487/50000.0\n",
            "21497/50000.0\n",
            "21546/50000.0\n",
            "21591/50000.0\n",
            "21618/50000.0\n",
            "21688/50000.0\n",
            "21759/50000.0\n",
            "21831/50000.0\n",
            "21955/50000.0\n",
            "22051/50000.0\n",
            "22073/50000.0\n",
            "22092/50000.0\n",
            "22114/50000.0\n",
            "22180/50000.0\n",
            "22216/50000.0\n",
            "22265/50000.0\n",
            "22406/50000.0\n",
            "22455/50000.0\n",
            "22484/50000.0\n",
            "22506/50000.0\n",
            "22544/50000.0\n",
            "22847/50000.0\n",
            "22957/50000.0\n",
            "23049/50000.0\n",
            "23072/50000.0\n",
            "23116/50000.0\n",
            "23174/50000.0\n",
            "23193/50000.0\n",
            "23215/50000.0\n",
            "23236/50000.0\n",
            "23258/50000.0\n",
            "23261/50000.0\n",
            "23289/50000.0\n",
            "23320/50000.0\n",
            "23350/50000.0\n",
            "23514/50000.0\n",
            "23964/50000.0\n",
            "23991/50000.0\n",
            "24065/50000.0\n",
            "24112/50000.0\n",
            "24165/50000.0\n",
            "24247/50000.0\n",
            "24475/50000.0\n",
            "24616/50000.0\n",
            "24666/50000.0\n",
            "24715/50000.0\n",
            "24880/50000.0\n",
            "24946/50000.0\n",
            "24995/50000.0\n",
            "25017/50000.0\n",
            "25028/50000.0\n",
            "25050/50000.0\n",
            "25074/50000.0\n",
            "25088/50000.0\n",
            "25094/50000.0\n",
            "25142/50000.0\n",
            "25232/50000.0\n",
            "25248/50000.0\n",
            "25312/50000.0\n",
            "25328/50000.0\n",
            "25366/50000.0\n",
            "25383/50000.0\n",
            "25452/50000.0\n",
            "25519/50000.0\n",
            "25531/50000.0\n",
            "25587/50000.0\n",
            "25631/50000.0\n",
            "25788/50000.0\n",
            "25803/50000.0\n",
            "25847/50000.0\n",
            "25877/50000.0\n",
            "25922/50000.0\n",
            "26066/50000.0\n",
            "26130/50000.0\n",
            "26215/50000.0\n",
            "28293/50000.0\n",
            "28297/50000.0\n",
            "28379/50000.0\n",
            "28653/50000.0\n",
            "28669/50000.0\n",
            "28703/50000.0\n",
            "28733/50000.0\n",
            "28753/50000.0\n",
            "29053/50000.0\n",
            "29108/50000.0\n",
            "29141/50000.0\n",
            "29290/50000.0\n",
            "29531/50000.0\n",
            "29570/50000.0\n",
            "29751/50000.0\n",
            "29768/50000.0\n",
            "30072/50000.0\n",
            "30151/50000.0\n",
            "30201/50000.0\n",
            "30227/50000.0\n",
            "30303/50000.0\n",
            "30323/50000.0\n",
            "30328/50000.0\n",
            "30382/50000.0\n",
            "30419/50000.0\n",
            "30455/50000.0\n",
            "30522/50000.0\n",
            "30555/50000.0\n",
            "30579/50000.0\n",
            "30836/50000.0\n",
            "30935/50000.0\n",
            "30969/50000.0\n",
            "30984/50000.0\n",
            "31044/50000.0\n",
            "31047/50000.0\n",
            "31405/50000.0\n",
            "31411/50000.0\n",
            "31820/50000.0\n",
            "31864/50000.0\n",
            "31947/50000.0\n",
            "32009/50000.0\n",
            "32030/50000.0\n",
            "32110/50000.0\n",
            "32138/50000.0\n",
            "32159/50000.0\n",
            "32304/50000.0\n",
            "32368/50000.0\n",
            "32469/50000.0\n",
            "32553/50000.0\n",
            "32584/50000.0\n",
            "32617/50000.0\n",
            "32654/50000.0\n",
            "32661/50000.0\n",
            "32691/50000.0\n",
            "32756/50000.0\n",
            "32783/50000.0\n",
            "32806/50000.0\n",
            "32820/50000.0\n",
            "33094/50000.0\n",
            "35141/50000.0\n",
            "35252/50000.0\n",
            "35338/50000.0\n",
            "35363/50000.0\n",
            "35391/50000.0\n",
            "35898/50000.0\n",
            "36107/50000.0\n",
            "36122/50000.0\n",
            "36142/50000.0\n",
            "36174/50000.0\n",
            "36220/50000.0\n",
            "36300/50000.0\n",
            "36327/50000.0\n",
            "36355/50000.0\n",
            "36396/50000.0\n",
            "36422/50000.0\n",
            "36484/50000.0\n",
            "36494/50000.0\n",
            "36544/50000.0\n",
            "36608/50000.0\n",
            "36629/50000.0\n",
            "36648/50000.0\n",
            "36649/50000.0\n",
            "36969/50000.0\n",
            "37004/50000.0\n",
            "37034/50000.0\n",
            "37082/50000.0\n",
            "37124/50000.0\n",
            "37142/50000.0\n",
            "37283/50000.0\n",
            "37335/50000.0\n",
            "37344/50000.0\n",
            "37360/50000.0\n",
            "37387/50000.0\n",
            "37410/50000.0\n",
            "37441/50000.0\n",
            "37464/50000.0\n",
            "37491/50000.0\n",
            "37521/50000.0\n",
            "37644/50000.0\n",
            "37705/50000.0\n",
            "37751/50000.0\n",
            "37761/50000.0\n",
            "37794/50000.0\n",
            "37819/50000.0\n",
            "37854/50000.0\n",
            "37874/50000.0\n",
            "37878/50000.0\n",
            "37909/50000.0\n",
            "38260/50000.0\n",
            "38350/50000.0\n",
            "38432/50000.0\n",
            "40349/50000.0\n",
            "40377/50000.0\n",
            "40449/50000.0\n",
            "40478/50000.0\n",
            "40486/50000.0\n",
            "40588/50000.0\n",
            "40635/50000.0\n",
            "40669/50000.0\n",
            "40692/50000.0\n",
            "40742/50000.0\n",
            "40775/50000.0\n",
            "40947/50000.0\n",
            "41062/50000.0\n",
            "41067/50000.0\n",
            "41108/50000.0\n",
            "41189/50000.0\n",
            "41198/50000.0\n",
            "41297/50000.0\n",
            "41374/50000.0\n",
            "41539/50000.0\n",
            "41595/50000.0\n",
            "41595/50000.0\n",
            "41687/50000.0\n",
            "41699/50000.0\n",
            "41814/50000.0\n",
            "41852/50000.0\n",
            "41934/50000.0\n",
            "42079/50000.0\n",
            "42143/50000.0\n",
            "42162/50000.0\n",
            "42196/50000.0\n",
            "42229/50000.0\n",
            "42271/50000.0\n",
            "42341/50000.0\n",
            "42359/50000.0\n",
            "42445/50000.0\n",
            "42471/50000.0\n",
            "42535/50000.0\n",
            "42815/50000.0\n",
            "42854/50000.0\n",
            "42907/50000.0\n",
            "42954/50000.0\n",
            "42961/50000.0\n",
            "42983/50000.0\n",
            "45782/50000.0\n",
            "45857/50000.0\n",
            "45889/50000.0\n",
            "45927/50000.0\n",
            "45937/50000.0\n",
            "45969/50000.0\n",
            "46031/50000.0\n",
            "46244/50000.0\n",
            "46263/50000.0\n",
            "46325/50000.0\n",
            "46428/50000.0\n",
            "46460/50000.0\n",
            "46505/50000.0\n",
            "46577/50000.0\n",
            "46651/50000.0\n",
            "46786/50000.0\n",
            "47355/50000.0\n",
            "47428/50000.0\n",
            "47429/50000.0\n",
            "47500/50000.0\n",
            "47883/50000.0\n",
            "48024/50000.0\n",
            "48164/50000.0\n",
            "48183/50000.0\n",
            "48400/50000.0\n",
            "48426/50000.0\n",
            "48579/50000.0\n",
            "48597/50000.0\n",
            "48693/50000.0\n",
            "48723/50000.0\n",
            "48805/50000.0\n",
            "48819/50000.0\n",
            "48845/50000.0\n",
            "48850/50000.0\n",
            "48898/50000.0\n",
            "48986/50000.0\n",
            "49087/50000.0\n",
            "49124/50000.0\n",
            "49131/50000.0\n",
            "49183/50000.0\n",
            "49277/50000.0\n",
            "49302/50000.0\n",
            "49405/50000.0\n",
            "49446/50000.0\n",
            "49489/50000.0\n",
            "49518/50000.0\n",
            "49708/50000.0\n",
            "49730/50000.0\n",
            "49817/50000.0\n",
            "49901/50000.0\n",
            "49927/50000.0\n",
            "49971/50000.0\n",
            "50005/50000.0\n"
          ]
        }
      ]
    },
    {
      "cell_type": "code",
      "source": [
        "dictionary = {w: i + 1 for i, w in enumerate({w for x in itertools.chain(d.texts, jd.texts) for w in x})}"
      ],
      "metadata": {
        "id": "3ltV9CJuI5qN"
      },
      "execution_count": 82,
      "outputs": []
    },
    {
      "cell_type": "code",
      "source": [
        "def encode(s, n=30):\n",
        "    return [dictionary.get(w, 0) for w in s[:n]] + [0] * (n - len(s))"
      ],
      "metadata": {
        "id": "plCH86fAMiFA"
      },
      "execution_count": 83,
      "outputs": []
    },
    {
      "cell_type": "code",
      "source": [
        "X = np.array([encode(s) for s in itertools.chain(d.texts, jd.texts)])\n",
        "y = np.array([0] * len(d) + [1] * len(jd))"
      ],
      "metadata": {
        "id": "xkcMp8zzOAoZ"
      },
      "execution_count": 84,
      "outputs": []
    },
    {
      "cell_type": "code",
      "source": [
        "X_train, X_valid, y_train, y_valid = train_test_split(X, y, test_size=0.3)"
      ],
      "metadata": {
        "id": "rMzGO2p3OL3a"
      },
      "execution_count": 85,
      "outputs": []
    },
    {
      "cell_type": "code",
      "source": [
        "np.mean(y_train), np.mean(y_valid)"
      ],
      "metadata": {
        "colab": {
          "base_uri": "https://localhost:8080/"
        },
        "id": "TZ04NqQehDLe",
        "outputId": "b6d0dc5b-bf4e-4949-c77c-a644637f5fa9"
      },
      "execution_count": 86,
      "outputs": [
        {
          "output_type": "execute_result",
          "data": {
            "text/plain": [
              "(0.18709259635865436, 0.18788476667374285)"
            ]
          },
          "metadata": {},
          "execution_count": 86
        }
      ]
    },
    {
      "cell_type": "code",
      "source": [
        "classifier = CategoricalNB(min_categories=len(dictionary) + 1)"
      ],
      "metadata": {
        "id": "B_UWcuWJZSCs"
      },
      "execution_count": 87,
      "outputs": []
    },
    {
      "cell_type": "code",
      "source": [
        "classifier.fit(X_train, y_train)"
      ],
      "metadata": {
        "colab": {
          "base_uri": "https://localhost:8080/"
        },
        "id": "kfGUHLkcZaGj",
        "outputId": "7c77a85a-7abf-44fb-cbc3-81a668270228"
      },
      "execution_count": 88,
      "outputs": [
        {
          "output_type": "execute_result",
          "data": {
            "text/plain": [
              "CategoricalNB(min_categories=76113)"
            ]
          },
          "metadata": {},
          "execution_count": 88
        }
      ]
    },
    {
      "cell_type": "code",
      "source": [
        "cutoff = np.percentile(classifier.predict_proba(X_train[y_train == 0])[:, 1], 95)\n",
        "print(cutoff)"
      ],
      "metadata": {
        "colab": {
          "base_uri": "https://localhost:8080/"
        },
        "id": "O53CVGysEeUQ",
        "outputId": "3b885071-1bfc-49d9-b4b7-7a20abb03625"
      },
      "execution_count": 99,
      "outputs": [
        {
          "output_type": "stream",
          "name": "stdout",
          "text": [
            "1.49640073123053e-05\n"
          ]
        }
      ]
    },
    {
      "cell_type": "code",
      "source": [
        "np.mean((classifier.predict_proba(X_valid)[:, 1] > cutoff) == y_valid)"
      ],
      "metadata": {
        "colab": {
          "base_uri": "https://localhost:8080/"
        },
        "id": "6KIV5pivE3Z7",
        "outputId": "dc962613-e001-46b5-dba8-500be0a89d28"
      },
      "execution_count": 100,
      "outputs": [
        {
          "output_type": "execute_result",
          "data": {
            "text/plain": [
              "0.9438568449444937"
            ]
          },
          "metadata": {},
          "execution_count": 100
        }
      ]
    },
    {
      "cell_type": "code",
      "source": [
        "def pred(mask):\n",
        "    return classifier.predict_proba(X_valid[mask])[:, 1] > cutoff"
      ],
      "metadata": {
        "id": "Hvg30K1_9BPS"
      },
      "execution_count": 101,
      "outputs": []
    },
    {
      "cell_type": "code",
      "source": [
        "tp = np.sum(pred(y_valid == 1) == 1)\n",
        "fp = np.sum(pred(y_valid == 0) == 1)\n",
        "tn = np.sum(pred(y_valid == 0) == 0)\n",
        "fn = np.sum(pred(y_valid == 1) == 0)"
      ],
      "metadata": {
        "id": "qaHqgClF82yS"
      },
      "execution_count": 102,
      "outputs": []
    },
    {
      "cell_type": "code",
      "source": [
        "print(f\"Precision: {round(tp / (tp + fp), 2)}\")\n",
        "print(f\"Recall: {round(tp / (tp + fn), 2)}\")"
      ],
      "metadata": {
        "colab": {
          "base_uri": "https://localhost:8080/"
        },
        "id": "iolxXSit9OtP",
        "outputId": "5920a094-760e-4102-a90f-b6124ec9690a"
      },
      "execution_count": 103,
      "outputs": [
        {
          "output_type": "stream",
          "name": "stdout",
          "text": [
            "Precision: 0.8\n",
            "Recall: 0.93\n"
          ]
        }
      ]
    },
    {
      "cell_type": "code",
      "source": [
        "def predict_proba(s):\n",
        "    return classifier.predict_proba([encode(preprocess_sentence(s))])[0, 1] \n",
        "\n",
        "def predict(s):\n",
        "    return predict_proba(s) > cutoff"
      ],
      "metadata": {
        "id": "19Drlq_ZEufZ"
      },
      "execution_count": 94,
      "outputs": []
    },
    {
      "cell_type": "code",
      "source": [
        "predict('events.dispatch(new ReadyEvent(this));')"
      ],
      "metadata": {
        "colab": {
          "base_uri": "https://localhost:8080/"
        },
        "id": "KAWZSqF2RFr6",
        "outputId": "c5881239-77f0-4ebe-dd24-1a7984ef6cde"
      },
      "execution_count": 106,
      "outputs": [
        {
          "output_type": "execute_result",
          "data": {
            "text/plain": [
              "True"
            ]
          },
          "metadata": {},
          "execution_count": 106
        }
      ]
    },
    {
      "cell_type": "code",
      "source": [
        "predict('If the page range is larger than a given size, the whole range is not')"
      ],
      "metadata": {
        "colab": {
          "base_uri": "https://localhost:8080/"
        },
        "id": "LmPxRDmZqFFW",
        "outputId": "2cd5646a-356f-407d-fc48-01fcc8849293"
      },
      "execution_count": 107,
      "outputs": [
        {
          "output_type": "execute_result",
          "data": {
            "text/plain": [
              "False"
            ]
          },
          "metadata": {},
          "execution_count": 107
        }
      ]
    },
    {
      "cell_type": "code",
      "source": [
        "predict_proba('yield from range(number + 1, number + on_each_side + 1)')"
      ],
      "metadata": {
        "id": "RjGBZ2j0BCKX",
        "outputId": "fc43193e-93f0-4167-dcb5-814a6f1ddf33",
        "colab": {
          "base_uri": "https://localhost:8080/"
        }
      },
      "execution_count": 109,
      "outputs": [
        {
          "output_type": "execute_result",
          "data": {
            "text/plain": [
              "4.374171344004736e-08"
            ]
          },
          "metadata": {},
          "execution_count": 109
        }
      ]
    },
    {
      "cell_type": "code",
      "source": [
        "predict_proba('If the page range is larger than a given size, the whole range is not')"
      ],
      "metadata": {
        "colab": {
          "base_uri": "https://localhost:8080/"
        },
        "id": "lMo16EYjKGhD",
        "outputId": "531376e1-3225-40c3-9819-f2eb75e85297"
      },
      "execution_count": 108,
      "outputs": [
        {
          "output_type": "execute_result",
          "data": {
            "text/plain": [
              "3.919099250354157e-13"
            ]
          },
          "metadata": {},
          "execution_count": 108
        }
      ]
    }
  ],
  "metadata": {
    "colab": {
      "name": "Code Detection.ipynb",
      "provenance": [],
      "collapsed_sections": []
    },
    "kernelspec": {
      "display_name": "Python 3",
      "name": "python3"
    },
    "language_info": {
      "name": "python"
    }
  },
  "nbformat": 4,
  "nbformat_minor": 0
}